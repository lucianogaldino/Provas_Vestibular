{
  "nbformat": 4,
  "nbformat_minor": 0,
  "metadata": {
    "colab": {
      "name": "Vestibulares.ipynb",
      "provenance": [],
      "mount_file_id": "1j9c3UAOIq1_36yWwJVuL2r1n2lhsj5Lk",
      "authorship_tag": "ABX9TyOI6TNEwhjxRW4osqzqUmCj",
      "include_colab_link": true
    },
    "kernelspec": {
      "name": "python3",
      "display_name": "Python 3"
    }
  },
  "cells": [
    {
      "cell_type": "markdown",
      "metadata": {
        "id": "view-in-github",
        "colab_type": "text"
      },
      "source": [
        "<a href=\"https://colab.research.google.com/github/lucianogaldino/Provas_Vestibular/blob/master/Vestibulares.ipynb\" target=\"_parent\"><img src=\"https://colab.research.google.com/assets/colab-badge.svg\" alt=\"Open In Colab\"/></a>"
      ]
    },
    {
      "cell_type": "code",
      "metadata": {
        "id": "dGDspwMTteft"
      },
      "source": [
        "import numpy as np \n",
        "import matplotlib.pyplot as plt \n",
        "import pandas as pd \n",
        "import seaborn as sb"
      ],
      "execution_count": 1,
      "outputs": []
    },
    {
      "cell_type": "code",
      "metadata": {
        "id": "lrvyskGvvKUJ"
      },
      "source": [
        "questoes = pd.read_csv('/content/drive/My Drive/Colab Notebooks/Vestibular/questoes.csv', sep=',')"
      ],
      "execution_count": 2,
      "outputs": []
    },
    {
      "cell_type": "code",
      "metadata": {
        "id": "Lm3QTKuI2jbr",
        "outputId": "219104ef-e980-4ce3-c7c7-123564172ad9",
        "colab": {
          "base_uri": "https://localhost:8080/",
          "height": 204
        }
      },
      "source": [
        "questoes.head()"
      ],
      "execution_count": 3,
      "outputs": [
        {
          "output_type": "execute_result",
          "data": {
            "text/html": [
              "<div>\n",
              "<style scoped>\n",
              "    .dataframe tbody tr th:only-of-type {\n",
              "        vertical-align: middle;\n",
              "    }\n",
              "\n",
              "    .dataframe tbody tr th {\n",
              "        vertical-align: top;\n",
              "    }\n",
              "\n",
              "    .dataframe thead th {\n",
              "        text-align: right;\n",
              "    }\n",
              "</style>\n",
              "<table border=\"1\" class=\"dataframe\">\n",
              "  <thead>\n",
              "    <tr style=\"text-align: right;\">\n",
              "      <th></th>\n",
              "      <th>id</th>\n",
              "      <th>vestibular</th>\n",
              "      <th>disciplina</th>\n",
              "      <th>ano</th>\n",
              "      <th>fase</th>\n",
              "      <th>assunto</th>\n",
              "      <th>area</th>\n",
              "      <th>conteudo</th>\n",
              "      <th>questao</th>\n",
              "    </tr>\n",
              "  </thead>\n",
              "  <tbody>\n",
              "    <tr>\n",
              "      <th>0</th>\n",
              "      <td>1</td>\n",
              "      <td>fuvest</td>\n",
              "      <td>Física</td>\n",
              "      <td>2016</td>\n",
              "      <td>primeira</td>\n",
              "      <td>mecânica</td>\n",
              "      <td>dinâmica</td>\n",
              "      <td>energia mecânica</td>\n",
              "      <td>24</td>\n",
              "    </tr>\n",
              "    <tr>\n",
              "      <th>1</th>\n",
              "      <td>2</td>\n",
              "      <td>fuvest</td>\n",
              "      <td>Física</td>\n",
              "      <td>2016</td>\n",
              "      <td>primeira</td>\n",
              "      <td>eletricidade</td>\n",
              "      <td>eletrostática</td>\n",
              "      <td>conservação da carga elétrica</td>\n",
              "      <td>25</td>\n",
              "    </tr>\n",
              "    <tr>\n",
              "      <th>2</th>\n",
              "      <td>3</td>\n",
              "      <td>fuvest</td>\n",
              "      <td>Física</td>\n",
              "      <td>2016</td>\n",
              "      <td>primeira</td>\n",
              "      <td>ondulatória</td>\n",
              "      <td>oscilações</td>\n",
              "      <td>pêndulo</td>\n",
              "      <td>26</td>\n",
              "    </tr>\n",
              "    <tr>\n",
              "      <th>3</th>\n",
              "      <td>4</td>\n",
              "      <td>fuvest</td>\n",
              "      <td>Física</td>\n",
              "      <td>2016</td>\n",
              "      <td>primeira</td>\n",
              "      <td>eletricidade</td>\n",
              "      <td>eletrodinâmica</td>\n",
              "      <td>circuito</td>\n",
              "      <td>27</td>\n",
              "    </tr>\n",
              "    <tr>\n",
              "      <th>4</th>\n",
              "      <td>5</td>\n",
              "      <td>fuvest</td>\n",
              "      <td>Física</td>\n",
              "      <td>2016</td>\n",
              "      <td>primeira</td>\n",
              "      <td>mecânica</td>\n",
              "      <td>gravitação</td>\n",
              "      <td>aceleração da gravidade</td>\n",
              "      <td>28</td>\n",
              "    </tr>\n",
              "  </tbody>\n",
              "</table>\n",
              "</div>"
            ],
            "text/plain": [
              "   id vestibular  ...                       conteudo  questao\n",
              "0   1     fuvest  ...               energia mecânica       24\n",
              "1   2     fuvest  ...  conservação da carga elétrica       25\n",
              "2   3     fuvest  ...                        pêndulo       26\n",
              "3   4     fuvest  ...                       circuito       27\n",
              "4   5     fuvest  ...        aceleração da gravidade       28\n",
              "\n",
              "[5 rows x 9 columns]"
            ]
          },
          "metadata": {
            "tags": []
          },
          "execution_count": 3
        }
      ]
    },
    {
      "cell_type": "code",
      "metadata": {
        "id": "Z9FOFcCV7aS1",
        "outputId": "79956dfe-30b1-4f44-db47-d18eeaf1281f",
        "colab": {
          "base_uri": "https://localhost:8080/",
          "height": 187
        }
      },
      "source": [
        "questoes.dtypes"
      ],
      "execution_count": 4,
      "outputs": [
        {
          "output_type": "execute_result",
          "data": {
            "text/plain": [
              "id             int64\n",
              "vestibular    object\n",
              "disciplina    object\n",
              "ano            int64\n",
              "fase          object\n",
              "assunto       object\n",
              "area          object\n",
              "conteudo      object\n",
              "questao        int64\n",
              "dtype: object"
            ]
          },
          "metadata": {
            "tags": []
          },
          "execution_count": 4
        }
      ]
    },
    {
      "cell_type": "code",
      "metadata": {
        "id": "4H8laLup7hnp",
        "outputId": "1cab79cd-ce3c-4073-8e2a-05a11f22853e",
        "colab": {
          "base_uri": "https://localhost:8080/",
          "height": 187
        }
      },
      "source": [
        "questoes.isnull().sum()"
      ],
      "execution_count": 5,
      "outputs": [
        {
          "output_type": "execute_result",
          "data": {
            "text/plain": [
              "id            0\n",
              "vestibular    0\n",
              "disciplina    0\n",
              "ano           0\n",
              "fase          0\n",
              "assunto       0\n",
              "area          0\n",
              "conteudo      0\n",
              "questao       0\n",
              "dtype: int64"
            ]
          },
          "metadata": {
            "tags": []
          },
          "execution_count": 5
        }
      ]
    },
    {
      "cell_type": "code",
      "metadata": {
        "id": "nw4NYS32aRyz",
        "outputId": "94f9afa1-4904-46bc-b5f3-6ae8a0a66130",
        "colab": {
          "base_uri": "https://localhost:8080/",
          "height": 316
        }
      },
      "source": [
        "questoes.assunto.value_counts().plot(kind='pie', autopct='%.2f%%')\n",
        "plt.axis('equal')"
      ],
      "execution_count": 34,
      "outputs": [
        {
          "output_type": "execute_result",
          "data": {
            "text/plain": [
              "(-1.1144860262731466,\n",
              " 1.1006898131887632,\n",
              " -1.1047245932166196,\n",
              " 1.1268782808692055)"
            ]
          },
          "metadata": {
            "tags": []
          },
          "execution_count": 34
        },
        {
          "output_type": "display_data",
          "data": {
            "image/png": "[encoded data removed]",
            "text/plain": [
              "<Figure size 432x288 with 1 Axes>"
            ]
          },
          "metadata": {
            "tags": []
          }
        }
      ]
    },
    {
      "cell_type": "code",
      "metadata": {
        "id": "-ScN4vd3aiz9"
      },
      "source": [
        "questoesmec = questoes.loc[questoes.assunto=='mecânica']"
      ],
      "execution_count": 35,
      "outputs": []
    },
    {
      "cell_type": "code",
      "metadata": {
        "id": "xfIXqQCwaugT",
        "outputId": "b64e0785-e9de-4b19-a2a1-08433057c16c",
        "colab": {
          "base_uri": "https://localhost:8080/",
          "height": 321
        }
      },
      "source": [
        "questoesmec.area.value_counts().plot(kind='pie', autopct='%.2f%%')\n",
        "plt.axis('equal')"
      ],
      "execution_count": 36,
      "outputs": [
        {
          "output_type": "execute_result",
          "data": {
            "text/plain": [
              "(-1.1135796449090427,\n",
              " 1.1006466497575735,\n",
              " -1.1067370610210876,\n",
              " 1.1083668332689254)"
            ]
          },
          "metadata": {
            "tags": []
          },
          "execution_count": 36
        },
        {
          "output_type": "display_data",
          "data": {
            "image/png": "[encoded data removed]",
            "text/plain": [
              "<Figure size 432x288 with 1 Axes>"
            ]
          },
          "metadata": {
            "tags": []
          }
        }
      ]
    },
    {
      "cell_type": "code",
      "metadata": {
        "id": "spd7sIG_bC2t"
      },
      "source": [
        "questoescinematica = questoesmec.loc[questoesmec.area=='cinemática']"
      ],
      "execution_count": 37,
      "outputs": []
    },
    {
      "cell_type": "code",
      "metadata": {
        "id": "p8QRTBT7bMzr",
        "outputId": "4981cfd9-2aec-4978-a316-f94727da762b",
        "colab": {
          "base_uri": "https://localhost:8080/",
          "height": 320
        }
      },
      "source": [
        "questoescinematica.conteudo.value_counts().plot(kind='pie', autopct='%.2f%%')\n",
        "plt.axis('equal')"
      ],
      "execution_count": 39,
      "outputs": [
        {
          "output_type": "execute_result",
          "data": {
            "text/plain": [
              "(-1.1107324040851756,\n",
              " 1.1005110762028325,\n",
              " -1.1040734764787021,\n",
              " 1.1109020421302218)"
            ]
          },
          "metadata": {
            "tags": []
          },
          "execution_count": 39
        },
        {
          "output_type": "display_data",
          "data": {
            "image/png": "[encoded data removed]",
            "text/plain": [
              "<Figure size 432x288 with 1 Axes>"
            ]
          },
          "metadata": {
            "tags": []
          }
        }
      ]
    },
    {
      "cell_type": "code",
      "metadata": {
        "id": "-17L4pP73NcC"
      },
      "source": [
        "fuvest = questoes.loc[questoes.vestibular=='fuvest']"
      ],
      "execution_count": 6,
      "outputs": []
    },
    {
      "cell_type": "code",
      "metadata": {
        "id": "m3CzDng33gAA",
        "outputId": "dc6d97a8-b9ea-41e1-8c89-90b83d56e2fd",
        "colab": {
          "base_uri": "https://localhost:8080/",
          "height": 204
        }
      },
      "source": [
        "fuvest.head()"
      ],
      "execution_count": 7,
      "outputs": [
        {
          "output_type": "execute_result",
          "data": {
            "text/html": [
              "<div>\n",
              "<style scoped>\n",
              "    .dataframe tbody tr th:only-of-type {\n",
              "        vertical-align: middle;\n",
              "    }\n",
              "\n",
              "    .dataframe tbody tr th {\n",
              "        vertical-align: top;\n",
              "    }\n",
              "\n",
              "    .dataframe thead th {\n",
              "        text-align: right;\n",
              "    }\n",
              "</style>\n",
              "<table border=\"1\" class=\"dataframe\">\n",
              "  <thead>\n",
              "    <tr style=\"text-align: right;\">\n",
              "      <th></th>\n",
              "      <th>id</th>\n",
              "      <th>vestibular</th>\n",
              "      <th>disciplina</th>\n",
              "      <th>ano</th>\n",
              "      <th>fase</th>\n",
              "      <th>assunto</th>\n",
              "      <th>area</th>\n",
              "      <th>conteudo</th>\n",
              "      <th>questao</th>\n",
              "    </tr>\n",
              "  </thead>\n",
              "  <tbody>\n",
              "    <tr>\n",
              "      <th>0</th>\n",
              "      <td>1</td>\n",
              "      <td>fuvest</td>\n",
              "      <td>Física</td>\n",
              "      <td>2016</td>\n",
              "      <td>primeira</td>\n",
              "      <td>mecânica</td>\n",
              "      <td>dinâmica</td>\n",
              "      <td>energia mecânica</td>\n",
              "      <td>24</td>\n",
              "    </tr>\n",
              "    <tr>\n",
              "      <th>1</th>\n",
              "      <td>2</td>\n",
              "      <td>fuvest</td>\n",
              "      <td>Física</td>\n",
              "      <td>2016</td>\n",
              "      <td>primeira</td>\n",
              "      <td>eletricidade</td>\n",
              "      <td>eletrostática</td>\n",
              "      <td>conservação da carga elétrica</td>\n",
              "      <td>25</td>\n",
              "    </tr>\n",
              "    <tr>\n",
              "      <th>2</th>\n",
              "      <td>3</td>\n",
              "      <td>fuvest</td>\n",
              "      <td>Física</td>\n",
              "      <td>2016</td>\n",
              "      <td>primeira</td>\n",
              "      <td>ondulatória</td>\n",
              "      <td>oscilações</td>\n",
              "      <td>pêndulo</td>\n",
              "      <td>26</td>\n",
              "    </tr>\n",
              "    <tr>\n",
              "      <th>3</th>\n",
              "      <td>4</td>\n",
              "      <td>fuvest</td>\n",
              "      <td>Física</td>\n",
              "      <td>2016</td>\n",
              "      <td>primeira</td>\n",
              "      <td>eletricidade</td>\n",
              "      <td>eletrodinâmica</td>\n",
              "      <td>circuito</td>\n",
              "      <td>27</td>\n",
              "    </tr>\n",
              "    <tr>\n",
              "      <th>4</th>\n",
              "      <td>5</td>\n",
              "      <td>fuvest</td>\n",
              "      <td>Física</td>\n",
              "      <td>2016</td>\n",
              "      <td>primeira</td>\n",
              "      <td>mecânica</td>\n",
              "      <td>gravitação</td>\n",
              "      <td>aceleração da gravidade</td>\n",
              "      <td>28</td>\n",
              "    </tr>\n",
              "  </tbody>\n",
              "</table>\n",
              "</div>"
            ],
            "text/plain": [
              "   id vestibular  ...                       conteudo  questao\n",
              "0   1     fuvest  ...               energia mecânica       24\n",
              "1   2     fuvest  ...  conservação da carga elétrica       25\n",
              "2   3     fuvest  ...                        pêndulo       26\n",
              "3   4     fuvest  ...                       circuito       27\n",
              "4   5     fuvest  ...        aceleração da gravidade       28\n",
              "\n",
              "[5 rows x 9 columns]"
            ]
          },
          "metadata": {
            "tags": []
          },
          "execution_count": 7
        }
      ]
    },
    {
      "cell_type": "code",
      "metadata": {
        "id": "K7UB5eRT3mbs",
        "outputId": "c0d6b59a-f23a-4f9d-b028-d5571a583126",
        "colab": {
          "base_uri": "https://localhost:8080/",
          "height": 34
        }
      },
      "source": [
        "fuvest.shape"
      ],
      "execution_count": 8,
      "outputs": [
        {
          "output_type": "execute_result",
          "data": {
            "text/plain": [
              "(57, 9)"
            ]
          },
          "metadata": {
            "tags": []
          },
          "execution_count": 8
        }
      ]
    },
    {
      "cell_type": "code",
      "metadata": {
        "id": "u5y5oHXwBtUW",
        "outputId": "63bcecd1-3201-4a83-964e-70f840944f93",
        "colab": {
          "base_uri": "https://localhost:8080/",
          "height": 321
        }
      },
      "source": [
        "fuvest.assunto.value_counts().plot(kind='pie', autopct='%.2f%%')\n",
        "plt.axis('equal')"
      ],
      "execution_count": 9,
      "outputs": [
        {
          "output_type": "execute_result",
          "data": {
            "text/plain": [
              "(-1.1239376998107258,\n",
              " 1.1011398949793163,\n",
              " -1.1027977934060322,\n",
              " 1.1001332368655603)"
            ]
          },
          "metadata": {
            "tags": []
          },
          "execution_count": 9
        },
        {
          "output_type": "display_data",
          "data": {
            "image/png": "[encoded data removed]",
            "text/plain": [
              "<Figure size 432x288 with 1 Axes>"
            ]
          },
          "metadata": {
            "tags": []
          }
        }
      ]
    },
    {
      "cell_type": "code",
      "metadata": {
        "id": "BYe2h2BeGHo1"
      },
      "source": [
        "mecfuvest = fuvest.loc[fuvest.assunto=='mecânica']"
      ],
      "execution_count": 10,
      "outputs": []
    },
    {
      "cell_type": "code",
      "metadata": {
        "id": "LRiAkHRCGWLi",
        "outputId": "d8775ef3-b08d-4812-a5c2-665405ccbc99",
        "colab": {
          "base_uri": "https://localhost:8080/",
          "height": 204
        }
      },
      "source": [
        "mecfuvest.head()"
      ],
      "execution_count": 11,
      "outputs": [
        {
          "output_type": "execute_result",
          "data": {
            "text/html": [
              "<div>\n",
              "<style scoped>\n",
              "    .dataframe tbody tr th:only-of-type {\n",
              "        vertical-align: middle;\n",
              "    }\n",
              "\n",
              "    .dataframe tbody tr th {\n",
              "        vertical-align: top;\n",
              "    }\n",
              "\n",
              "    .dataframe thead th {\n",
              "        text-align: right;\n",
              "    }\n",
              "</style>\n",
              "<table border=\"1\" class=\"dataframe\">\n",
              "  <thead>\n",
              "    <tr style=\"text-align: right;\">\n",
              "      <th></th>\n",
              "      <th>id</th>\n",
              "      <th>vestibular</th>\n",
              "      <th>disciplina</th>\n",
              "      <th>ano</th>\n",
              "      <th>fase</th>\n",
              "      <th>assunto</th>\n",
              "      <th>area</th>\n",
              "      <th>conteudo</th>\n",
              "      <th>questao</th>\n",
              "    </tr>\n",
              "  </thead>\n",
              "  <tbody>\n",
              "    <tr>\n",
              "      <th>0</th>\n",
              "      <td>1</td>\n",
              "      <td>fuvest</td>\n",
              "      <td>Física</td>\n",
              "      <td>2016</td>\n",
              "      <td>primeira</td>\n",
              "      <td>mecânica</td>\n",
              "      <td>dinâmica</td>\n",
              "      <td>energia mecânica</td>\n",
              "      <td>24</td>\n",
              "    </tr>\n",
              "    <tr>\n",
              "      <th>4</th>\n",
              "      <td>5</td>\n",
              "      <td>fuvest</td>\n",
              "      <td>Física</td>\n",
              "      <td>2016</td>\n",
              "      <td>primeira</td>\n",
              "      <td>mecânica</td>\n",
              "      <td>gravitação</td>\n",
              "      <td>aceleração da gravidade</td>\n",
              "      <td>28</td>\n",
              "    </tr>\n",
              "    <tr>\n",
              "      <th>6</th>\n",
              "      <td>7</td>\n",
              "      <td>fuvest</td>\n",
              "      <td>Física</td>\n",
              "      <td>2016</td>\n",
              "      <td>primeira</td>\n",
              "      <td>mecânica</td>\n",
              "      <td>hidrostática</td>\n",
              "      <td>empuxo</td>\n",
              "      <td>30</td>\n",
              "    </tr>\n",
              "    <tr>\n",
              "      <th>9</th>\n",
              "      <td>10</td>\n",
              "      <td>fuvest</td>\n",
              "      <td>Física</td>\n",
              "      <td>2016</td>\n",
              "      <td>primeira</td>\n",
              "      <td>mecânica</td>\n",
              "      <td>dinâmica</td>\n",
              "      <td>análise dimensional</td>\n",
              "      <td>33</td>\n",
              "    </tr>\n",
              "    <tr>\n",
              "      <th>10</th>\n",
              "      <td>11</td>\n",
              "      <td>fuvest</td>\n",
              "      <td>Física</td>\n",
              "      <td>2017</td>\n",
              "      <td>primeira</td>\n",
              "      <td>mecânica</td>\n",
              "      <td>cinemática</td>\n",
              "      <td>gráfico mruv</td>\n",
              "      <td>57</td>\n",
              "    </tr>\n",
              "  </tbody>\n",
              "</table>\n",
              "</div>"
            ],
            "text/plain": [
              "    id vestibular disciplina  ...          area                 conteudo questao\n",
              "0    1     fuvest     Física  ...      dinâmica         energia mecânica      24\n",
              "4    5     fuvest     Física  ...    gravitação  aceleração da gravidade      28\n",
              "6    7     fuvest     Física  ...  hidrostática                   empuxo      30\n",
              "9   10     fuvest     Física  ...      dinâmica      análise dimensional      33\n",
              "10  11     fuvest     Física  ...    cinemática             gráfico mruv      57\n",
              "\n",
              "[5 rows x 9 columns]"
            ]
          },
          "metadata": {
            "tags": []
          },
          "execution_count": 11
        }
      ]
    },
    {
      "cell_type": "code",
      "metadata": {
        "id": "cSIe0G-IGdIK",
        "outputId": "889051e7-65e5-4c6a-f148-05d2675a5f62",
        "colab": {
          "base_uri": "https://localhost:8080/",
          "height": 323
        }
      },
      "source": [
        "mecfuvest.area.value_counts().plot(kind='pie', autopct='%.2f%%')\n",
        "plt.axis('equal')"
      ],
      "execution_count": 12,
      "outputs": [
        {
          "output_type": "execute_result",
          "data": {
            "text/plain": [
              "(-1.1241243869915631,\n",
              " 1.1011487830374835,\n",
              " -1.1116887168805436,\n",
              " 1.1186793896692007)"
            ]
          },
          "metadata": {
            "tags": []
          },
          "execution_count": 12
        },
        {
          "output_type": "display_data",
          "data": {
            "image/png": "[encoded data removed]",
            "text/plain": [
              "<Figure size 432x288 with 1 Axes>"
            ]
          },
          "metadata": {
            "tags": []
          }
        }
      ]
    },
    {
      "cell_type": "code",
      "metadata": {
        "id": "_cMrJ7-eQzSn"
      },
      "source": [
        "eletricafuvest = fuvest.loc[fuvest.assunto=='eletricidade']"
      ],
      "execution_count": 13,
      "outputs": []
    },
    {
      "cell_type": "code",
      "metadata": {
        "id": "ff7yUHsMQ9my",
        "outputId": "d907b56d-9db4-4bfd-e4bf-36774a047b62",
        "colab": {
          "base_uri": "https://localhost:8080/",
          "height": 204
        }
      },
      "source": [
        "eletricafuvest.head()"
      ],
      "execution_count": 14,
      "outputs": [
        {
          "output_type": "execute_result",
          "data": {
            "text/html": [
              "<div>\n",
              "<style scoped>\n",
              "    .dataframe tbody tr th:only-of-type {\n",
              "        vertical-align: middle;\n",
              "    }\n",
              "\n",
              "    .dataframe tbody tr th {\n",
              "        vertical-align: top;\n",
              "    }\n",
              "\n",
              "    .dataframe thead th {\n",
              "        text-align: right;\n",
              "    }\n",
              "</style>\n",
              "<table border=\"1\" class=\"dataframe\">\n",
              "  <thead>\n",
              "    <tr style=\"text-align: right;\">\n",
              "      <th></th>\n",
              "      <th>id</th>\n",
              "      <th>vestibular</th>\n",
              "      <th>disciplina</th>\n",
              "      <th>ano</th>\n",
              "      <th>fase</th>\n",
              "      <th>assunto</th>\n",
              "      <th>area</th>\n",
              "      <th>conteudo</th>\n",
              "      <th>questao</th>\n",
              "    </tr>\n",
              "  </thead>\n",
              "  <tbody>\n",
              "    <tr>\n",
              "      <th>1</th>\n",
              "      <td>2</td>\n",
              "      <td>fuvest</td>\n",
              "      <td>Física</td>\n",
              "      <td>2016</td>\n",
              "      <td>primeira</td>\n",
              "      <td>eletricidade</td>\n",
              "      <td>eletrostática</td>\n",
              "      <td>conservação da carga elétrica</td>\n",
              "      <td>25</td>\n",
              "    </tr>\n",
              "    <tr>\n",
              "      <th>3</th>\n",
              "      <td>4</td>\n",
              "      <td>fuvest</td>\n",
              "      <td>Física</td>\n",
              "      <td>2016</td>\n",
              "      <td>primeira</td>\n",
              "      <td>eletricidade</td>\n",
              "      <td>eletrodinâmica</td>\n",
              "      <td>circuito</td>\n",
              "      <td>27</td>\n",
              "    </tr>\n",
              "    <tr>\n",
              "      <th>14</th>\n",
              "      <td>15</td>\n",
              "      <td>fuvest</td>\n",
              "      <td>Física</td>\n",
              "      <td>2017</td>\n",
              "      <td>primeira</td>\n",
              "      <td>eletricidade</td>\n",
              "      <td>eletromagnetismo</td>\n",
              "      <td>campo magnético</td>\n",
              "      <td>61</td>\n",
              "    </tr>\n",
              "    <tr>\n",
              "      <th>15</th>\n",
              "      <td>16</td>\n",
              "      <td>fuvest</td>\n",
              "      <td>Física</td>\n",
              "      <td>2017</td>\n",
              "      <td>primeira</td>\n",
              "      <td>eletricidade</td>\n",
              "      <td>eletrodinâmica</td>\n",
              "      <td>potência</td>\n",
              "      <td>62</td>\n",
              "    </tr>\n",
              "    <tr>\n",
              "      <th>20</th>\n",
              "      <td>21</td>\n",
              "      <td>fuvest</td>\n",
              "      <td>Física</td>\n",
              "      <td>2017</td>\n",
              "      <td>primeira</td>\n",
              "      <td>eletricidade</td>\n",
              "      <td>eletrostática</td>\n",
              "      <td>carga elétrica</td>\n",
              "      <td>67</td>\n",
              "    </tr>\n",
              "  </tbody>\n",
              "</table>\n",
              "</div>"
            ],
            "text/plain": [
              "    id vestibular  ...                       conteudo  questao\n",
              "1    2     fuvest  ...  conservação da carga elétrica       25\n",
              "3    4     fuvest  ...                       circuito       27\n",
              "14  15     fuvest  ...                campo magnético       61\n",
              "15  16     fuvest  ...                       potência       62\n",
              "20  21     fuvest  ...                 carga elétrica       67\n",
              "\n",
              "[5 rows x 9 columns]"
            ]
          },
          "metadata": {
            "tags": []
          },
          "execution_count": 14
        }
      ]
    },
    {
      "cell_type": "code",
      "metadata": {
        "id": "ZUR9GGSiRRoR",
        "outputId": "03ebb027-9285-48e0-9a38-afaae91f7643",
        "colab": {
          "base_uri": "https://localhost:8080/",
          "height": 321
        }
      },
      "source": [
        "eletricafuvest.area.value_counts().plot(kind='pie', autopct='%.2f%%')\n",
        "plt.axis('equal')"
      ],
      "execution_count": 15,
      "outputs": [
        {
          "output_type": "execute_result",
          "data": {
            "text/plain": [
              "(-1.100000000821685,\n",
              " 1.100000017255386,\n",
              " -1.1000000086276942,\n",
              " 1.1000000004108426)"
            ]
          },
          "metadata": {
            "tags": []
          },
          "execution_count": 15
        },
        {
          "output_type": "display_data",
          "data": {
            "image/png": "[encoded data removed]",
            "text/plain": [
              "<Figure size 432x288 with 1 Axes>"
            ]
          },
          "metadata": {
            "tags": []
          }
        }
      ]
    },
    {
      "cell_type": "code",
      "metadata": {
        "id": "DF35REcw3sQ0"
      },
      "source": [
        "unicamp = questoes.loc[questoes.vestibular=='unicamp']"
      ],
      "execution_count": 16,
      "outputs": []
    },
    {
      "cell_type": "code",
      "metadata": {
        "id": "NhcdHsug33HU",
        "outputId": "02368056-4a28-48ed-985c-14617845a68e",
        "colab": {
          "base_uri": "https://localhost:8080/",
          "height": 204
        }
      },
      "source": [
        "unicamp.head()"
      ],
      "execution_count": 17,
      "outputs": [
        {
          "output_type": "execute_result",
          "data": {
            "text/html": [
              "<div>\n",
              "<style scoped>\n",
              "    .dataframe tbody tr th:only-of-type {\n",
              "        vertical-align: middle;\n",
              "    }\n",
              "\n",
              "    .dataframe tbody tr th {\n",
              "        vertical-align: top;\n",
              "    }\n",
              "\n",
              "    .dataframe thead th {\n",
              "        text-align: right;\n",
              "    }\n",
              "</style>\n",
              "<table border=\"1\" class=\"dataframe\">\n",
              "  <thead>\n",
              "    <tr style=\"text-align: right;\">\n",
              "      <th></th>\n",
              "      <th>id</th>\n",
              "      <th>vestibular</th>\n",
              "      <th>disciplina</th>\n",
              "      <th>ano</th>\n",
              "      <th>fase</th>\n",
              "      <th>assunto</th>\n",
              "      <th>area</th>\n",
              "      <th>conteudo</th>\n",
              "      <th>questao</th>\n",
              "    </tr>\n",
              "  </thead>\n",
              "  <tbody>\n",
              "    <tr>\n",
              "      <th>57</th>\n",
              "      <td>58</td>\n",
              "      <td>unicamp</td>\n",
              "      <td>Física</td>\n",
              "      <td>2020</td>\n",
              "      <td>primeira</td>\n",
              "      <td>mecânica</td>\n",
              "      <td>cinemática</td>\n",
              "      <td>gráfico mruv</td>\n",
              "      <td>70</td>\n",
              "    </tr>\n",
              "    <tr>\n",
              "      <th>58</th>\n",
              "      <td>59</td>\n",
              "      <td>unicamp</td>\n",
              "      <td>Física</td>\n",
              "      <td>2020</td>\n",
              "      <td>primeira</td>\n",
              "      <td>mecânica</td>\n",
              "      <td>dinâmica</td>\n",
              "      <td>energia cinética</td>\n",
              "      <td>71</td>\n",
              "    </tr>\n",
              "    <tr>\n",
              "      <th>59</th>\n",
              "      <td>60</td>\n",
              "      <td>unicamp</td>\n",
              "      <td>Física</td>\n",
              "      <td>2020</td>\n",
              "      <td>primeira</td>\n",
              "      <td>mecânica</td>\n",
              "      <td>dinâmica</td>\n",
              "      <td>quantidade de movimento</td>\n",
              "      <td>72</td>\n",
              "    </tr>\n",
              "    <tr>\n",
              "      <th>60</th>\n",
              "      <td>61</td>\n",
              "      <td>unicamp</td>\n",
              "      <td>Física</td>\n",
              "      <td>2020</td>\n",
              "      <td>primeira</td>\n",
              "      <td>mecânica</td>\n",
              "      <td>cinemática</td>\n",
              "      <td>aceleração centrípeta</td>\n",
              "      <td>73</td>\n",
              "    </tr>\n",
              "    <tr>\n",
              "      <th>61</th>\n",
              "      <td>62</td>\n",
              "      <td>unicamp</td>\n",
              "      <td>Física</td>\n",
              "      <td>2020</td>\n",
              "      <td>primeira</td>\n",
              "      <td>mecânica</td>\n",
              "      <td>estática</td>\n",
              "      <td>equilíbrio</td>\n",
              "      <td>74</td>\n",
              "    </tr>\n",
              "  </tbody>\n",
              "</table>\n",
              "</div>"
            ],
            "text/plain": [
              "    id vestibular disciplina  ...        area                 conteudo questao\n",
              "57  58    unicamp     Física  ...  cinemática             gráfico mruv      70\n",
              "58  59    unicamp     Física  ...    dinâmica         energia cinética      71\n",
              "59  60    unicamp     Física  ...    dinâmica  quantidade de movimento      72\n",
              "60  61    unicamp     Física  ...  cinemática    aceleração centrípeta      73\n",
              "61  62    unicamp     Física  ...    estática               equilíbrio      74\n",
              "\n",
              "[5 rows x 9 columns]"
            ]
          },
          "metadata": {
            "tags": []
          },
          "execution_count": 17
        }
      ]
    },
    {
      "cell_type": "code",
      "metadata": {
        "id": "IqcG5wnu36PL",
        "outputId": "48e5e5b7-1575-48c8-a3e5-c6cb05cf1454",
        "colab": {
          "base_uri": "https://localhost:8080/",
          "height": 34
        }
      },
      "source": [
        "unicamp.shape"
      ],
      "execution_count": 18,
      "outputs": [
        {
          "output_type": "execute_result",
          "data": {
            "text/plain": [
              "(49, 9)"
            ]
          },
          "metadata": {
            "tags": []
          },
          "execution_count": 18
        }
      ]
    },
    {
      "cell_type": "code",
      "metadata": {
        "id": "775BmZQ8DYNa",
        "outputId": "c5830406-a363-4428-8339-fb588ade8a08",
        "colab": {
          "base_uri": "https://localhost:8080/",
          "height": 324
        }
      },
      "source": [
        "unicamp.assunto.value_counts().plot(kind='pie', autopct='%.2f%%')\n",
        "plt.axis('equal')"
      ],
      "execution_count": 19,
      "outputs": [
        {
          "output_type": "execute_result",
          "data": {
            "text/plain": [
              "(-1.1086199438685016,\n",
              " 1.1004104735175477,\n",
              " -1.1085546132625859,\n",
              " 1.1095909221209068)"
            ]
          },
          "metadata": {
            "tags": []
          },
          "execution_count": 19
        },
        {
          "output_type": "display_data",
          "data": {
            "image/png": "[encoded data removed]",
            "text/plain": [
              "<Figure size 432x288 with 1 Axes>"
            ]
          },
          "metadata": {
            "tags": []
          }
        }
      ]
    },
    {
      "cell_type": "code",
      "metadata": {
        "id": "_KRzPs2DHiYM"
      },
      "source": [
        "mecunicamp = unicamp.loc[unicamp.assunto=='mecânica']"
      ],
      "execution_count": 20,
      "outputs": []
    },
    {
      "cell_type": "code",
      "metadata": {
        "id": "RXHy1VOjHpFh",
        "outputId": "41f4d041-098b-484b-cfb2-04ee1b1ec9fa",
        "colab": {
          "base_uri": "https://localhost:8080/",
          "height": 204
        }
      },
      "source": [
        "mecunicamp.head()"
      ],
      "execution_count": 21,
      "outputs": [
        {
          "output_type": "execute_result",
          "data": {
            "text/html": [
              "<div>\n",
              "<style scoped>\n",
              "    .dataframe tbody tr th:only-of-type {\n",
              "        vertical-align: middle;\n",
              "    }\n",
              "\n",
              "    .dataframe tbody tr th {\n",
              "        vertical-align: top;\n",
              "    }\n",
              "\n",
              "    .dataframe thead th {\n",
              "        text-align: right;\n",
              "    }\n",
              "</style>\n",
              "<table border=\"1\" class=\"dataframe\">\n",
              "  <thead>\n",
              "    <tr style=\"text-align: right;\">\n",
              "      <th></th>\n",
              "      <th>id</th>\n",
              "      <th>vestibular</th>\n",
              "      <th>disciplina</th>\n",
              "      <th>ano</th>\n",
              "      <th>fase</th>\n",
              "      <th>assunto</th>\n",
              "      <th>area</th>\n",
              "      <th>conteudo</th>\n",
              "      <th>questao</th>\n",
              "    </tr>\n",
              "  </thead>\n",
              "  <tbody>\n",
              "    <tr>\n",
              "      <th>57</th>\n",
              "      <td>58</td>\n",
              "      <td>unicamp</td>\n",
              "      <td>Física</td>\n",
              "      <td>2020</td>\n",
              "      <td>primeira</td>\n",
              "      <td>mecânica</td>\n",
              "      <td>cinemática</td>\n",
              "      <td>gráfico mruv</td>\n",
              "      <td>70</td>\n",
              "    </tr>\n",
              "    <tr>\n",
              "      <th>58</th>\n",
              "      <td>59</td>\n",
              "      <td>unicamp</td>\n",
              "      <td>Física</td>\n",
              "      <td>2020</td>\n",
              "      <td>primeira</td>\n",
              "      <td>mecânica</td>\n",
              "      <td>dinâmica</td>\n",
              "      <td>energia cinética</td>\n",
              "      <td>71</td>\n",
              "    </tr>\n",
              "    <tr>\n",
              "      <th>59</th>\n",
              "      <td>60</td>\n",
              "      <td>unicamp</td>\n",
              "      <td>Física</td>\n",
              "      <td>2020</td>\n",
              "      <td>primeira</td>\n",
              "      <td>mecânica</td>\n",
              "      <td>dinâmica</td>\n",
              "      <td>quantidade de movimento</td>\n",
              "      <td>72</td>\n",
              "    </tr>\n",
              "    <tr>\n",
              "      <th>60</th>\n",
              "      <td>61</td>\n",
              "      <td>unicamp</td>\n",
              "      <td>Física</td>\n",
              "      <td>2020</td>\n",
              "      <td>primeira</td>\n",
              "      <td>mecânica</td>\n",
              "      <td>cinemática</td>\n",
              "      <td>aceleração centrípeta</td>\n",
              "      <td>73</td>\n",
              "    </tr>\n",
              "    <tr>\n",
              "      <th>61</th>\n",
              "      <td>62</td>\n",
              "      <td>unicamp</td>\n",
              "      <td>Física</td>\n",
              "      <td>2020</td>\n",
              "      <td>primeira</td>\n",
              "      <td>mecânica</td>\n",
              "      <td>estática</td>\n",
              "      <td>equilíbrio</td>\n",
              "      <td>74</td>\n",
              "    </tr>\n",
              "  </tbody>\n",
              "</table>\n",
              "</div>"
            ],
            "text/plain": [
              "    id vestibular disciplina  ...        area                 conteudo questao\n",
              "57  58    unicamp     Física  ...  cinemática             gráfico mruv      70\n",
              "58  59    unicamp     Física  ...    dinâmica         energia cinética      71\n",
              "59  60    unicamp     Física  ...    dinâmica  quantidade de movimento      72\n",
              "60  61    unicamp     Física  ...  cinemática    aceleração centrípeta      73\n",
              "61  62    unicamp     Física  ...    estática               equilíbrio      74\n",
              "\n",
              "[5 rows x 9 columns]"
            ]
          },
          "metadata": {
            "tags": []
          },
          "execution_count": 21
        }
      ]
    },
    {
      "cell_type": "code",
      "metadata": {
        "id": "EjSC6J6XHshb",
        "outputId": "f8d96665-1a4d-481f-e59b-0485cf87c525",
        "colab": {
          "base_uri": "https://localhost:8080/",
          "height": 268
        }
      },
      "source": [
        "mecunicamp.area.value_counts().plot(kind='pie', autopct='%.2f%%')\n",
        "plt.axis('equal')"
      ],
      "execution_count": 22,
      "outputs": [
        {
          "output_type": "execute_result",
          "data": {
            "text/plain": [
              "(-1.100000016669936, 1.100000016615229, -1.113292623833155, 1.110256260188035)"
            ]
          },
          "metadata": {
            "tags": []
          },
          "execution_count": 22
        },
        {
          "output_type": "display_data",
          "data": {
            "image/png": "[encoded data removed]",
            "text/plain": [
              "<Figure size 432x288 with 1 Axes>"
            ]
          },
          "metadata": {
            "tags": []
          }
        }
      ]
    },
    {
      "cell_type": "code",
      "metadata": {
        "id": "DcxxTielISDn"
      },
      "source": [
        "eletricaunicamp = unicamp.loc[unicamp.assunto=='eletricidade']"
      ],
      "execution_count": 23,
      "outputs": []
    },
    {
      "cell_type": "code",
      "metadata": {
        "id": "BNcGVNQbIiGw",
        "outputId": "c0bb85eb-b94e-43f2-d0e9-3cbd4e7fcdeb",
        "colab": {
          "base_uri": "https://localhost:8080/",
          "height": 265
        }
      },
      "source": [
        "eletricaunicamp.area.value_counts().plot(kind='pie', autopct='%.2f%%')\n",
        "plt.axis('equal')"
      ],
      "execution_count": 24,
      "outputs": [
        {
          "output_type": "execute_result",
          "data": {
            "text/plain": [
              "(-1.1, 1.1, -1.1, 1.1)"
            ]
          },
          "metadata": {
            "tags": []
          },
          "execution_count": 24
        },
        {
          "output_type": "display_data",
          "data": {
            "image/png": "[encoded data removed]",
            "text/plain": [
              "<Figure size 432x288 with 1 Axes>"
            ]
          },
          "metadata": {
            "tags": []
          }
        }
      ]
    },
    {
      "cell_type": "code",
      "metadata": {
        "id": "4YtIP6QF38-N"
      },
      "source": [
        "unesp = questoes.loc[questoes.vestibular=='unesp']"
      ],
      "execution_count": 25,
      "outputs": []
    },
    {
      "cell_type": "code",
      "metadata": {
        "id": "PzlM3uR54BnM",
        "outputId": "008c1c2b-2909-4fe9-a66f-649343140785",
        "colab": {
          "base_uri": "https://localhost:8080/",
          "height": 204
        }
      },
      "source": [
        "unesp.head()"
      ],
      "execution_count": 26,
      "outputs": [
        {
          "output_type": "execute_result",
          "data": {
            "text/html": [
              "<div>\n",
              "<style scoped>\n",
              "    .dataframe tbody tr th:only-of-type {\n",
              "        vertical-align: middle;\n",
              "    }\n",
              "\n",
              "    .dataframe tbody tr th {\n",
              "        vertical-align: top;\n",
              "    }\n",
              "\n",
              "    .dataframe thead th {\n",
              "        text-align: right;\n",
              "    }\n",
              "</style>\n",
              "<table border=\"1\" class=\"dataframe\">\n",
              "  <thead>\n",
              "    <tr style=\"text-align: right;\">\n",
              "      <th></th>\n",
              "      <th>id</th>\n",
              "      <th>vestibular</th>\n",
              "      <th>disciplina</th>\n",
              "      <th>ano</th>\n",
              "      <th>fase</th>\n",
              "      <th>assunto</th>\n",
              "      <th>area</th>\n",
              "      <th>conteudo</th>\n",
              "      <th>questao</th>\n",
              "    </tr>\n",
              "  </thead>\n",
              "  <tbody>\n",
              "    <tr>\n",
              "      <th>106</th>\n",
              "      <td>107</td>\n",
              "      <td>unesp</td>\n",
              "      <td>Física</td>\n",
              "      <td>2017</td>\n",
              "      <td>primeira_1sem</td>\n",
              "      <td>mecânica</td>\n",
              "      <td>cinemática</td>\n",
              "      <td>mcu</td>\n",
              "      <td>77</td>\n",
              "    </tr>\n",
              "    <tr>\n",
              "      <th>107</th>\n",
              "      <td>108</td>\n",
              "      <td>unesp</td>\n",
              "      <td>Física</td>\n",
              "      <td>2017</td>\n",
              "      <td>primeira_1sem</td>\n",
              "      <td>mecânica</td>\n",
              "      <td>dinâmica</td>\n",
              "      <td>força</td>\n",
              "      <td>78</td>\n",
              "    </tr>\n",
              "    <tr>\n",
              "      <th>108</th>\n",
              "      <td>109</td>\n",
              "      <td>unesp</td>\n",
              "      <td>Física</td>\n",
              "      <td>2017</td>\n",
              "      <td>primeira_1sem</td>\n",
              "      <td>mecânica</td>\n",
              "      <td>cinemática</td>\n",
              "      <td>lançamento</td>\n",
              "      <td>79</td>\n",
              "    </tr>\n",
              "    <tr>\n",
              "      <th>109</th>\n",
              "      <td>110</td>\n",
              "      <td>unesp</td>\n",
              "      <td>Física</td>\n",
              "      <td>2017</td>\n",
              "      <td>primeira_1sem</td>\n",
              "      <td>óptica</td>\n",
              "      <td>óptica geométrica</td>\n",
              "      <td>refração</td>\n",
              "      <td>80</td>\n",
              "    </tr>\n",
              "    <tr>\n",
              "      <th>110</th>\n",
              "      <td>111</td>\n",
              "      <td>unesp</td>\n",
              "      <td>Física</td>\n",
              "      <td>2017</td>\n",
              "      <td>primeira_1sem</td>\n",
              "      <td>ondulatória</td>\n",
              "      <td>ondas sonoras</td>\n",
              "      <td>velocidade</td>\n",
              "      <td>81</td>\n",
              "    </tr>\n",
              "  </tbody>\n",
              "</table>\n",
              "</div>"
            ],
            "text/plain": [
              "      id vestibular disciplina  ...               area    conteudo questao\n",
              "106  107      unesp     Física  ...         cinemática         mcu      77\n",
              "107  108      unesp     Física  ...           dinâmica       força      78\n",
              "108  109      unesp     Física  ...         cinemática  lançamento      79\n",
              "109  110      unesp     Física  ...  óptica geométrica    refração      80\n",
              "110  111      unesp     Física  ...      ondas sonoras  velocidade      81\n",
              "\n",
              "[5 rows x 9 columns]"
            ]
          },
          "metadata": {
            "tags": []
          },
          "execution_count": 26
        }
      ]
    },
    {
      "cell_type": "code",
      "metadata": {
        "id": "CSpidqH54Dod",
        "outputId": "650aeac3-f874-43ba-8b63-8491936d2b48",
        "colab": {
          "base_uri": "https://localhost:8080/",
          "height": 34
        }
      },
      "source": [
        "unesp.shape"
      ],
      "execution_count": 27,
      "outputs": [
        {
          "output_type": "execute_result",
          "data": {
            "text/plain": [
              "(43, 9)"
            ]
          },
          "metadata": {
            "tags": []
          },
          "execution_count": 27
        }
      ]
    },
    {
      "cell_type": "code",
      "metadata": {
        "id": "7gjEwHlKASTr",
        "outputId": "90881562-34c1-4736-f796-c0abdfb56322",
        "colab": {
          "base_uri": "https://localhost:8080/",
          "height": 317
        }
      },
      "source": [
        "unesp.assunto.value_counts().plot(kind='pie', autopct='%.2f%%')\n",
        "plt.axis('equal')"
      ],
      "execution_count": 28,
      "outputs": [
        {
          "output_type": "execute_result",
          "data": {
            "text/plain": [
              "(-1.1196732006774204,\n",
              " 1.1009368238594177,\n",
              " -1.1118386589369216,\n",
              " 1.1275983659348428)"
            ]
          },
          "metadata": {
            "tags": []
          },
          "execution_count": 28
        },
        {
          "output_type": "display_data",
          "data": {
            "image/png": "[encoded data removed]",
            "text/plain": [
              "<Figure size 432x288 with 1 Axes>"
            ]
          },
          "metadata": {
            "tags": []
          }
        }
      ]
    },
    {
      "cell_type": "code",
      "metadata": {
        "id": "rB4exIhUI6uG"
      },
      "source": [
        "mecunesp = unesp.loc[unesp.assunto=='mecânica']"
      ],
      "execution_count": 29,
      "outputs": []
    },
    {
      "cell_type": "code",
      "metadata": {
        "id": "stlrtzTzJMdF",
        "outputId": "26f73d6b-dac2-4708-843a-0ff64d010229",
        "colab": {
          "base_uri": "https://localhost:8080/",
          "height": 319
        }
      },
      "source": [
        "mecunesp.area.value_counts().plot(kind='pie', autopct='%.2f%%')\n",
        "plt.axis('equal')"
      ],
      "execution_count": 31,
      "outputs": [
        {
          "output_type": "execute_result",
          "data": {
            "text/plain": [
              "(-1.1095771360906341,\n",
              " 1.1004560595086559,\n",
              " -1.111688700552958,\n",
              " 1.1186793888916966)"
            ]
          },
          "metadata": {
            "tags": []
          },
          "execution_count": 31
        },
        {
          "output_type": "display_data",
          "data": {
            "image/png": "[encoded data removed]",
            "text/plain": [
              "<Figure size 432x288 with 1 Axes>"
            ]
          },
          "metadata": {
            "tags": []
          }
        }
      ]
    },
    {
      "cell_type": "code",
      "metadata": {
        "id": "QtCaDb2zWchA"
      },
      "source": [
        "eletricaunesp = unesp.loc[unesp.assunto=='eletricidade']"
      ],
      "execution_count": 32,
      "outputs": []
    },
    {
      "cell_type": "code",
      "metadata": {
        "id": "SUC7J18yWqDz",
        "outputId": "a0276af2-facf-4192-f5d8-7b764a672bd0",
        "colab": {
          "base_uri": "https://localhost:8080/",
          "height": 270
        }
      },
      "source": [
        "eletricaunesp.area.value_counts().plot(kind='pie', autopct='%.2f%%')\n",
        "plt.axis('equal')"
      ],
      "execution_count": 33,
      "outputs": [
        {
          "output_type": "execute_result",
          "data": {
            "text/plain": [
              "(-1.1, 1.1, -1.1, 1.1)"
            ]
          },
          "metadata": {
            "tags": []
          },
          "execution_count": 33
        },
        {
          "output_type": "display_data",
          "data": {
            "image/png": "[encoded data removed]",
            "text/plain": [
              "<Figure size 432x288 with 1 Axes>"
            ]
          },
          "metadata": {
            "tags": []
          }
        }
      ]
    }
  ]
}