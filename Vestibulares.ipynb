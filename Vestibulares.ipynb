{
  "nbformat": 4,
  "nbformat_minor": 0,
  "metadata": {
    "colab": {
      "name": "Vestibulares.ipynb",
      "provenance": [],
      "mount_file_id": "1j9c3UAOIq1_36yWwJVuL2r1n2lhsj5Lk",
      "authorship_tag": "ABX9TyPigP0jkw5nuvMZ1O4A4nPP",
      "include_colab_link": true
    },
    "kernelspec": {
      "name": "python3",
      "display_name": "Python 3"
    }
  },
  "cells": [
    {
      "cell_type": "markdown",
      "metadata": {
        "id": "view-in-github",
        "colab_type": "text"
      },
      "source": [
        "<a href=\"https://colab.research.google.com/github/lucianogaldino/Provas_Vestibular/blob/master/Vestibulares.ipynb\" target=\"_parent\"><img src=\"https://colab.research.google.com/assets/colab-badge.svg\" alt=\"Open In Colab\"/></a>"
      ]
    },
    {
      "cell_type": "code",
      "metadata": {
        "id": "dGDspwMTteft"
      },
      "source": [
        "import numpy as np \n",
        "import matplotlib.pyplot as plt \n",
        "import pandas as pd \n",
        "import seaborn as sb"
      ],
      "execution_count": null,
      "outputs": []
    },
    {
      "cell_type": "code",
      "metadata": {
        "id": "lrvyskGvvKUJ"
      },
      "source": [
        "questoes = pd.read_csv('/content/drive/My Drive/Colab Notebooks/Vestibular/questoes.csv', sep=',')"
      ],
      "execution_count": null,
      "outputs": []
    },
    {
      "cell_type": "code",
      "metadata": {
        "id": "Lm3QTKuI2jbr",
        "outputId": "42f0ab49-353c-47d9-e5b7-a750385e827b",
        "colab": {
          "base_uri": "https://localhost:8080/",
          "height": 204
        }
      },
      "source": [
        "questoes.head()"
      ],
      "execution_count": null,
      "outputs": [
        {
          "output_type": "execute_result",
          "data": {
            "text/html": [
              "<div>\n",
              "<style scoped>\n",
              "    .dataframe tbody tr th:only-of-type {\n",
              "        vertical-align: middle;\n",
              "    }\n",
              "\n",
              "    .dataframe tbody tr th {\n",
              "        vertical-align: top;\n",
              "    }\n",
              "\n",
              "    .dataframe thead th {\n",
              "        text-align: right;\n",
              "    }\n",
              "</style>\n",
              "<table border=\"1\" class=\"dataframe\">\n",
              "  <thead>\n",
              "    <tr style=\"text-align: right;\">\n",
              "      <th></th>\n",
              "      <th>id</th>\n",
              "      <th>vestibular</th>\n",
              "      <th>disciplina</th>\n",
              "      <th>ano</th>\n",
              "      <th>fase</th>\n",
              "      <th>assunto</th>\n",
              "      <th>conteudo</th>\n",
              "      <th>questao</th>\n",
              "    </tr>\n",
              "  </thead>\n",
              "  <tbody>\n",
              "    <tr>\n",
              "      <th>0</th>\n",
              "      <td>1</td>\n",
              "      <td>fuvest</td>\n",
              "      <td>Física</td>\n",
              "      <td>2016</td>\n",
              "      <td>primeira</td>\n",
              "      <td>mecânica</td>\n",
              "      <td>energia mecânica</td>\n",
              "      <td>24</td>\n",
              "    </tr>\n",
              "    <tr>\n",
              "      <th>1</th>\n",
              "      <td>2</td>\n",
              "      <td>fuvest</td>\n",
              "      <td>Física</td>\n",
              "      <td>2016</td>\n",
              "      <td>primeira</td>\n",
              "      <td>eletrostática</td>\n",
              "      <td>conservação da carga elétrica</td>\n",
              "      <td>25</td>\n",
              "    </tr>\n",
              "    <tr>\n",
              "      <th>2</th>\n",
              "      <td>3</td>\n",
              "      <td>fuvest</td>\n",
              "      <td>Física</td>\n",
              "      <td>2016</td>\n",
              "      <td>primeira</td>\n",
              "      <td>ondulatória</td>\n",
              "      <td>pêndulo</td>\n",
              "      <td>26</td>\n",
              "    </tr>\n",
              "    <tr>\n",
              "      <th>3</th>\n",
              "      <td>4</td>\n",
              "      <td>fuvest</td>\n",
              "      <td>Física</td>\n",
              "      <td>2016</td>\n",
              "      <td>primeira</td>\n",
              "      <td>eletrodinâmica</td>\n",
              "      <td>circuito</td>\n",
              "      <td>27</td>\n",
              "    </tr>\n",
              "    <tr>\n",
              "      <th>4</th>\n",
              "      <td>5</td>\n",
              "      <td>fuvest</td>\n",
              "      <td>Física</td>\n",
              "      <td>2016</td>\n",
              "      <td>primeira</td>\n",
              "      <td>mecânica</td>\n",
              "      <td>gravitação</td>\n",
              "      <td>28</td>\n",
              "    </tr>\n",
              "  </tbody>\n",
              "</table>\n",
              "</div>"
            ],
            "text/plain": [
              "   id vestibular  ...                       conteudo  questao\n",
              "0   1     fuvest  ...               energia mecânica       24\n",
              "1   2     fuvest  ...  conservação da carga elétrica       25\n",
              "2   3     fuvest  ...                        pêndulo       26\n",
              "3   4     fuvest  ...                       circuito       27\n",
              "4   5     fuvest  ...                     gravitação       28\n",
              "\n",
              "[5 rows x 8 columns]"
            ]
          },
          "metadata": {
            "tags": []
          },
          "execution_count": 32
        }
      ]
    },
    {
      "cell_type": "code",
      "metadata": {
        "id": "Z9FOFcCV7aS1",
        "outputId": "c1b90795-a1fc-4835-da32-7c94e504f369",
        "colab": {
          "base_uri": "https://localhost:8080/",
          "height": 170
        }
      },
      "source": [
        "questoes.dtypes"
      ],
      "execution_count": null,
      "outputs": [
        {
          "output_type": "execute_result",
          "data": {
            "text/plain": [
              "id             int64\n",
              "vestibular    object\n",
              "disciplina    object\n",
              "ano            int64\n",
              "fase          object\n",
              "assunto       object\n",
              "conteudo      object\n",
              "questao        int64\n",
              "dtype: object"
            ]
          },
          "metadata": {
            "tags": []
          },
          "execution_count": 33
        }
      ]
    },
    {
      "cell_type": "code",
      "metadata": {
        "id": "4H8laLup7hnp",
        "outputId": "6c3d703c-258e-4c40-a4ec-e767edcf3515",
        "colab": {
          "base_uri": "https://localhost:8080/",
          "height": 170
        }
      },
      "source": [
        "questoes.isnull().sum()"
      ],
      "execution_count": null,
      "outputs": [
        {
          "output_type": "execute_result",
          "data": {
            "text/plain": [
              "id            0\n",
              "vestibular    0\n",
              "disciplina    0\n",
              "ano           0\n",
              "fase          0\n",
              "assunto       0\n",
              "conteudo      0\n",
              "questao       0\n",
              "dtype: int64"
            ]
          },
          "metadata": {
            "tags": []
          },
          "execution_count": 34
        }
      ]
    },
    {
      "cell_type": "code",
      "metadata": {
        "id": "-17L4pP73NcC"
      },
      "source": [
        "fuvest = questoes.loc[questoes.vestibular=='fuvest']"
      ],
      "execution_count": null,
      "outputs": []
    },
    {
      "cell_type": "code",
      "metadata": {
        "id": "m3CzDng33gAA",
        "outputId": "1ba4d6de-36e9-4975-b651-e9e6e7560b42",
        "colab": {
          "base_uri": "https://localhost:8080/",
          "height": 204
        }
      },
      "source": [
        "fuvest.head()"
      ],
      "execution_count": null,
      "outputs": [
        {
          "output_type": "execute_result",
          "data": {
            "text/html": [
              "<div>\n",
              "<style scoped>\n",
              "    .dataframe tbody tr th:only-of-type {\n",
              "        vertical-align: middle;\n",
              "    }\n",
              "\n",
              "    .dataframe tbody tr th {\n",
              "        vertical-align: top;\n",
              "    }\n",
              "\n",
              "    .dataframe thead th {\n",
              "        text-align: right;\n",
              "    }\n",
              "</style>\n",
              "<table border=\"1\" class=\"dataframe\">\n",
              "  <thead>\n",
              "    <tr style=\"text-align: right;\">\n",
              "      <th></th>\n",
              "      <th>id</th>\n",
              "      <th>vestibular</th>\n",
              "      <th>disciplina</th>\n",
              "      <th>ano</th>\n",
              "      <th>fase</th>\n",
              "      <th>assunto</th>\n",
              "      <th>conteudo</th>\n",
              "      <th>questao</th>\n",
              "    </tr>\n",
              "  </thead>\n",
              "  <tbody>\n",
              "    <tr>\n",
              "      <th>0</th>\n",
              "      <td>1</td>\n",
              "      <td>fuvest</td>\n",
              "      <td>Física</td>\n",
              "      <td>2016</td>\n",
              "      <td>primeira</td>\n",
              "      <td>mecânica</td>\n",
              "      <td>energia mecânica</td>\n",
              "      <td>24</td>\n",
              "    </tr>\n",
              "    <tr>\n",
              "      <th>1</th>\n",
              "      <td>2</td>\n",
              "      <td>fuvest</td>\n",
              "      <td>Física</td>\n",
              "      <td>2016</td>\n",
              "      <td>primeira</td>\n",
              "      <td>eletrostática</td>\n",
              "      <td>conservação da carga elétrica</td>\n",
              "      <td>25</td>\n",
              "    </tr>\n",
              "    <tr>\n",
              "      <th>2</th>\n",
              "      <td>3</td>\n",
              "      <td>fuvest</td>\n",
              "      <td>Física</td>\n",
              "      <td>2016</td>\n",
              "      <td>primeira</td>\n",
              "      <td>ondulatória</td>\n",
              "      <td>pêndulo</td>\n",
              "      <td>26</td>\n",
              "    </tr>\n",
              "    <tr>\n",
              "      <th>3</th>\n",
              "      <td>4</td>\n",
              "      <td>fuvest</td>\n",
              "      <td>Física</td>\n",
              "      <td>2016</td>\n",
              "      <td>primeira</td>\n",
              "      <td>eletrodinâmica</td>\n",
              "      <td>circuito</td>\n",
              "      <td>27</td>\n",
              "    </tr>\n",
              "    <tr>\n",
              "      <th>4</th>\n",
              "      <td>5</td>\n",
              "      <td>fuvest</td>\n",
              "      <td>Física</td>\n",
              "      <td>2016</td>\n",
              "      <td>primeira</td>\n",
              "      <td>mecânica</td>\n",
              "      <td>gravitação</td>\n",
              "      <td>28</td>\n",
              "    </tr>\n",
              "  </tbody>\n",
              "</table>\n",
              "</div>"
            ],
            "text/plain": [
              "   id vestibular  ...                       conteudo  questao\n",
              "0   1     fuvest  ...               energia mecânica       24\n",
              "1   2     fuvest  ...  conservação da carga elétrica       25\n",
              "2   3     fuvest  ...                        pêndulo       26\n",
              "3   4     fuvest  ...                       circuito       27\n",
              "4   5     fuvest  ...                     gravitação       28\n",
              "\n",
              "[5 rows x 8 columns]"
            ]
          },
          "metadata": {
            "tags": []
          },
          "execution_count": 36
        }
      ]
    },
    {
      "cell_type": "code",
      "metadata": {
        "id": "K7UB5eRT3mbs",
        "outputId": "58a40291-0e71-4ee6-e52b-daca59149dd2",
        "colab": {
          "base_uri": "https://localhost:8080/",
          "height": 34
        }
      },
      "source": [
        "fuvest.shape"
      ],
      "execution_count": null,
      "outputs": [
        {
          "output_type": "execute_result",
          "data": {
            "text/plain": [
              "(57, 8)"
            ]
          },
          "metadata": {
            "tags": []
          },
          "execution_count": 37
        }
      ]
    },
    {
      "cell_type": "code",
      "metadata": {
        "id": "u5y5oHXwBtUW",
        "outputId": "c43b5597-6b04-4e65-daeb-00f0b3dfbbf9",
        "colab": {
          "base_uri": "https://localhost:8080/",
          "height": 321
        }
      },
      "source": [
        "fuvest.assunto.value_counts().plot(kind='pie', autopct='%.2f%%')\n",
        "plt.axis('equal')"
      ],
      "execution_count": null,
      "outputs": [
        {
          "output_type": "execute_result",
          "data": {
            "text/plain": [
              "(-1.1047733264439674,\n",
              " 1.1002273012592365,\n",
              " -1.1065088332086657,\n",
              " 1.111109166572899)"
            ]
          },
          "metadata": {
            "tags": []
          },
          "execution_count": 38
        },
        {
          "output_type": "display_data",
          "data": {
            "image/png": "[encoded data removed]",
            "text/plain": [
              "<Figure size 432x288 with 1 Axes>"
            ]
          },
          "metadata": {
            "tags": []
          }
        }
      ]
    },
    {
      "cell_type": "code",
      "metadata": {
        "id": "BYe2h2BeGHo1"
      },
      "source": [
        "mecfuvest = fuvest.loc[fuvest.assunto=='mecânica']"
      ],
      "execution_count": null,
      "outputs": []
    },
    {
      "cell_type": "code",
      "metadata": {
        "id": "LRiAkHRCGWLi",
        "outputId": "0580c59f-ffc2-4048-dabc-85bc72c2b85a",
        "colab": {
          "base_uri": "https://localhost:8080/",
          "height": 204
        }
      },
      "source": [
        "mecfuvest.head()"
      ],
      "execution_count": null,
      "outputs": [
        {
          "output_type": "execute_result",
          "data": {
            "text/html": [
              "<div>\n",
              "<style scoped>\n",
              "    .dataframe tbody tr th:only-of-type {\n",
              "        vertical-align: middle;\n",
              "    }\n",
              "\n",
              "    .dataframe tbody tr th {\n",
              "        vertical-align: top;\n",
              "    }\n",
              "\n",
              "    .dataframe thead th {\n",
              "        text-align: right;\n",
              "    }\n",
              "</style>\n",
              "<table border=\"1\" class=\"dataframe\">\n",
              "  <thead>\n",
              "    <tr style=\"text-align: right;\">\n",
              "      <th></th>\n",
              "      <th>id</th>\n",
              "      <th>vestibular</th>\n",
              "      <th>disciplina</th>\n",
              "      <th>ano</th>\n",
              "      <th>fase</th>\n",
              "      <th>assunto</th>\n",
              "      <th>conteudo</th>\n",
              "      <th>questao</th>\n",
              "    </tr>\n",
              "  </thead>\n",
              "  <tbody>\n",
              "    <tr>\n",
              "      <th>0</th>\n",
              "      <td>1</td>\n",
              "      <td>fuvest</td>\n",
              "      <td>Física</td>\n",
              "      <td>2016</td>\n",
              "      <td>primeira</td>\n",
              "      <td>mecânica</td>\n",
              "      <td>energia mecânica</td>\n",
              "      <td>24</td>\n",
              "    </tr>\n",
              "    <tr>\n",
              "      <th>4</th>\n",
              "      <td>5</td>\n",
              "      <td>fuvest</td>\n",
              "      <td>Física</td>\n",
              "      <td>2016</td>\n",
              "      <td>primeira</td>\n",
              "      <td>mecânica</td>\n",
              "      <td>gravitação</td>\n",
              "      <td>28</td>\n",
              "    </tr>\n",
              "    <tr>\n",
              "      <th>6</th>\n",
              "      <td>7</td>\n",
              "      <td>fuvest</td>\n",
              "      <td>Física</td>\n",
              "      <td>2016</td>\n",
              "      <td>primeira</td>\n",
              "      <td>mecânica</td>\n",
              "      <td>hidrostática</td>\n",
              "      <td>30</td>\n",
              "    </tr>\n",
              "    <tr>\n",
              "      <th>10</th>\n",
              "      <td>11</td>\n",
              "      <td>fuvest</td>\n",
              "      <td>Física</td>\n",
              "      <td>2017</td>\n",
              "      <td>primeira</td>\n",
              "      <td>mecânica</td>\n",
              "      <td>cinemática</td>\n",
              "      <td>57</td>\n",
              "    </tr>\n",
              "    <tr>\n",
              "      <th>11</th>\n",
              "      <td>12</td>\n",
              "      <td>fuvest</td>\n",
              "      <td>Física</td>\n",
              "      <td>2017</td>\n",
              "      <td>primeira</td>\n",
              "      <td>mecânica</td>\n",
              "      <td>quantidade de movimento</td>\n",
              "      <td>58</td>\n",
              "    </tr>\n",
              "  </tbody>\n",
              "</table>\n",
              "</div>"
            ],
            "text/plain": [
              "    id vestibular disciplina  ...   assunto                 conteudo questao\n",
              "0    1     fuvest     Física  ...  mecânica         energia mecânica      24\n",
              "4    5     fuvest     Física  ...  mecânica               gravitação      28\n",
              "6    7     fuvest     Física  ...  mecânica             hidrostática      30\n",
              "10  11     fuvest     Física  ...  mecânica               cinemática      57\n",
              "11  12     fuvest     Física  ...  mecânica  quantidade de movimento      58\n",
              "\n",
              "[5 rows x 8 columns]"
            ]
          },
          "metadata": {
            "tags": []
          },
          "execution_count": 40
        }
      ]
    },
    {
      "cell_type": "code",
      "metadata": {
        "id": "cSIe0G-IGdIK",
        "outputId": "0711c07f-d5a0-48b9-ee98-1e5c40039170",
        "colab": {
          "base_uri": "https://localhost:8080/",
          "height": 326
        }
      },
      "source": [
        "mecfuvest.conteudo.value_counts().plot(kind='pie', autopct='%.2f%%')\n",
        "plt.axis('equal')"
      ],
      "execution_count": null,
      "outputs": [
        {
          "output_type": "execute_result",
          "data": {
            "text/plain": [
              "(-1.1000000088732376,\n",
              " 1.1000000061325137,\n",
              " -1.1000000054184293,\n",
              " 1.1000000088661508)"
            ]
          },
          "metadata": {
            "tags": []
          },
          "execution_count": 41
        },
        {
          "output_type": "display_data",
          "data": {
            "image/png": "[encoded data removed]",
            "text/plain": [
              "<Figure size 432x288 with 1 Axes>"
            ]
          },
          "metadata": {
            "tags": []
          }
        }
      ]
    },
    {
      "cell_type": "code",
      "metadata": {
        "id": "DF35REcw3sQ0"
      },
      "source": [
        "unicamp = questoes.loc[questoes.vestibular=='unicamp']"
      ],
      "execution_count": null,
      "outputs": []
    },
    {
      "cell_type": "code",
      "metadata": {
        "id": "NhcdHsug33HU",
        "outputId": "40796912-9930-46ce-8719-8fe81da64476",
        "colab": {
          "base_uri": "https://localhost:8080/",
          "height": 204
        }
      },
      "source": [
        "unicamp.head()"
      ],
      "execution_count": null,
      "outputs": [
        {
          "output_type": "execute_result",
          "data": {
            "text/html": [
              "<div>\n",
              "<style scoped>\n",
              "    .dataframe tbody tr th:only-of-type {\n",
              "        vertical-align: middle;\n",
              "    }\n",
              "\n",
              "    .dataframe tbody tr th {\n",
              "        vertical-align: top;\n",
              "    }\n",
              "\n",
              "    .dataframe thead th {\n",
              "        text-align: right;\n",
              "    }\n",
              "</style>\n",
              "<table border=\"1\" class=\"dataframe\">\n",
              "  <thead>\n",
              "    <tr style=\"text-align: right;\">\n",
              "      <th></th>\n",
              "      <th>id</th>\n",
              "      <th>vestibular</th>\n",
              "      <th>disciplina</th>\n",
              "      <th>ano</th>\n",
              "      <th>fase</th>\n",
              "      <th>assunto</th>\n",
              "      <th>conteudo</th>\n",
              "      <th>questao</th>\n",
              "    </tr>\n",
              "  </thead>\n",
              "  <tbody>\n",
              "    <tr>\n",
              "      <th>57</th>\n",
              "      <td>58</td>\n",
              "      <td>unicamp</td>\n",
              "      <td>Física</td>\n",
              "      <td>2020</td>\n",
              "      <td>primeira</td>\n",
              "      <td>mecânica</td>\n",
              "      <td>cinemática</td>\n",
              "      <td>70</td>\n",
              "    </tr>\n",
              "    <tr>\n",
              "      <th>58</th>\n",
              "      <td>59</td>\n",
              "      <td>unicamp</td>\n",
              "      <td>Física</td>\n",
              "      <td>2020</td>\n",
              "      <td>primeira</td>\n",
              "      <td>mecânica</td>\n",
              "      <td>energia cinética</td>\n",
              "      <td>71</td>\n",
              "    </tr>\n",
              "    <tr>\n",
              "      <th>59</th>\n",
              "      <td>60</td>\n",
              "      <td>unicamp</td>\n",
              "      <td>Física</td>\n",
              "      <td>2020</td>\n",
              "      <td>primeira</td>\n",
              "      <td>mecânica</td>\n",
              "      <td>quantidade de movimento</td>\n",
              "      <td>72</td>\n",
              "    </tr>\n",
              "    <tr>\n",
              "      <th>60</th>\n",
              "      <td>61</td>\n",
              "      <td>unicamp</td>\n",
              "      <td>Física</td>\n",
              "      <td>2020</td>\n",
              "      <td>primeira</td>\n",
              "      <td>mecânica</td>\n",
              "      <td>aceleração centrípeta</td>\n",
              "      <td>73</td>\n",
              "    </tr>\n",
              "    <tr>\n",
              "      <th>61</th>\n",
              "      <td>62</td>\n",
              "      <td>unicamp</td>\n",
              "      <td>Física</td>\n",
              "      <td>2020</td>\n",
              "      <td>primeira</td>\n",
              "      <td>mecânica</td>\n",
              "      <td>equilíbrio</td>\n",
              "      <td>74</td>\n",
              "    </tr>\n",
              "  </tbody>\n",
              "</table>\n",
              "</div>"
            ],
            "text/plain": [
              "    id vestibular disciplina  ...   assunto                 conteudo questao\n",
              "57  58    unicamp     Física  ...  mecânica               cinemática      70\n",
              "58  59    unicamp     Física  ...  mecânica         energia cinética      71\n",
              "59  60    unicamp     Física  ...  mecânica  quantidade de movimento      72\n",
              "60  61    unicamp     Física  ...  mecânica    aceleração centrípeta      73\n",
              "61  62    unicamp     Física  ...  mecânica               equilíbrio      74\n",
              "\n",
              "[5 rows x 8 columns]"
            ]
          },
          "metadata": {
            "tags": []
          },
          "execution_count": 43
        }
      ]
    },
    {
      "cell_type": "code",
      "metadata": {
        "id": "IqcG5wnu36PL",
        "outputId": "d2b3fd0d-1b5c-41f1-9ccf-1e38582f6c6b",
        "colab": {
          "base_uri": "https://localhost:8080/",
          "height": 34
        }
      },
      "source": [
        "unicamp.shape"
      ],
      "execution_count": null,
      "outputs": [
        {
          "output_type": "execute_result",
          "data": {
            "text/plain": [
              "(49, 8)"
            ]
          },
          "metadata": {
            "tags": []
          },
          "execution_count": 44
        }
      ]
    },
    {
      "cell_type": "code",
      "metadata": {
        "id": "775BmZQ8DYNa",
        "outputId": "341da29f-4228-41bd-e3ab-1c985e436ddc",
        "colab": {
          "base_uri": "https://localhost:8080/",
          "height": 324
        }
      },
      "source": [
        "unicamp.assunto.value_counts().plot(kind='pie', autopct='%.2f%%')\n",
        "plt.axis('equal')"
      ],
      "execution_count": null,
      "outputs": [
        {
          "output_type": "execute_result",
          "data": {
            "text/plain": [
              "(-1.1086199438685016,\n",
              " 1.1004104735175477,\n",
              " -1.1085546132625859,\n",
              " 1.1095909221209068)"
            ]
          },
          "metadata": {
            "tags": []
          },
          "execution_count": 45
        },
        {
          "output_type": "display_data",
          "data": {
            "image/png": "[encoded data removed]",
            "text/plain": [
              "<Figure size 432x288 with 1 Axes>"
            ]
          },
          "metadata": {
            "tags": []
          }
        }
      ]
    },
    {
      "cell_type": "code",
      "metadata": {
        "id": "_KRzPs2DHiYM"
      },
      "source": [
        "mecunicamp = unicamp.loc[unicamp.assunto=='mecânica']"
      ],
      "execution_count": null,
      "outputs": []
    },
    {
      "cell_type": "code",
      "metadata": {
        "id": "RXHy1VOjHpFh",
        "outputId": "a4063708-ec03-415d-c4ba-a656b5c7668e",
        "colab": {
          "base_uri": "https://localhost:8080/",
          "height": 204
        }
      },
      "source": [
        "mecunicamp.head()"
      ],
      "execution_count": null,
      "outputs": [
        {
          "output_type": "execute_result",
          "data": {
            "text/html": [
              "<div>\n",
              "<style scoped>\n",
              "    .dataframe tbody tr th:only-of-type {\n",
              "        vertical-align: middle;\n",
              "    }\n",
              "\n",
              "    .dataframe tbody tr th {\n",
              "        vertical-align: top;\n",
              "    }\n",
              "\n",
              "    .dataframe thead th {\n",
              "        text-align: right;\n",
              "    }\n",
              "</style>\n",
              "<table border=\"1\" class=\"dataframe\">\n",
              "  <thead>\n",
              "    <tr style=\"text-align: right;\">\n",
              "      <th></th>\n",
              "      <th>id</th>\n",
              "      <th>vestibular</th>\n",
              "      <th>disciplina</th>\n",
              "      <th>ano</th>\n",
              "      <th>fase</th>\n",
              "      <th>assunto</th>\n",
              "      <th>conteudo</th>\n",
              "      <th>questao</th>\n",
              "    </tr>\n",
              "  </thead>\n",
              "  <tbody>\n",
              "    <tr>\n",
              "      <th>57</th>\n",
              "      <td>58</td>\n",
              "      <td>unicamp</td>\n",
              "      <td>Física</td>\n",
              "      <td>2020</td>\n",
              "      <td>primeira</td>\n",
              "      <td>mecânica</td>\n",
              "      <td>cinemática</td>\n",
              "      <td>70</td>\n",
              "    </tr>\n",
              "    <tr>\n",
              "      <th>58</th>\n",
              "      <td>59</td>\n",
              "      <td>unicamp</td>\n",
              "      <td>Física</td>\n",
              "      <td>2020</td>\n",
              "      <td>primeira</td>\n",
              "      <td>mecânica</td>\n",
              "      <td>energia cinética</td>\n",
              "      <td>71</td>\n",
              "    </tr>\n",
              "    <tr>\n",
              "      <th>59</th>\n",
              "      <td>60</td>\n",
              "      <td>unicamp</td>\n",
              "      <td>Física</td>\n",
              "      <td>2020</td>\n",
              "      <td>primeira</td>\n",
              "      <td>mecânica</td>\n",
              "      <td>quantidade de movimento</td>\n",
              "      <td>72</td>\n",
              "    </tr>\n",
              "    <tr>\n",
              "      <th>60</th>\n",
              "      <td>61</td>\n",
              "      <td>unicamp</td>\n",
              "      <td>Física</td>\n",
              "      <td>2020</td>\n",
              "      <td>primeira</td>\n",
              "      <td>mecânica</td>\n",
              "      <td>aceleração centrípeta</td>\n",
              "      <td>73</td>\n",
              "    </tr>\n",
              "    <tr>\n",
              "      <th>61</th>\n",
              "      <td>62</td>\n",
              "      <td>unicamp</td>\n",
              "      <td>Física</td>\n",
              "      <td>2020</td>\n",
              "      <td>primeira</td>\n",
              "      <td>mecânica</td>\n",
              "      <td>equilíbrio</td>\n",
              "      <td>74</td>\n",
              "    </tr>\n",
              "  </tbody>\n",
              "</table>\n",
              "</div>"
            ],
            "text/plain": [
              "    id vestibular disciplina  ...   assunto                 conteudo questao\n",
              "57  58    unicamp     Física  ...  mecânica               cinemática      70\n",
              "58  59    unicamp     Física  ...  mecânica         energia cinética      71\n",
              "59  60    unicamp     Física  ...  mecânica  quantidade de movimento      72\n",
              "60  61    unicamp     Física  ...  mecânica    aceleração centrípeta      73\n",
              "61  62    unicamp     Física  ...  mecânica               equilíbrio      74\n",
              "\n",
              "[5 rows x 8 columns]"
            ]
          },
          "metadata": {
            "tags": []
          },
          "execution_count": 47
        }
      ]
    },
    {
      "cell_type": "code",
      "metadata": {
        "id": "EjSC6J6XHshb",
        "outputId": "8ffd1040-fc28-49b2-9281-b38bf09ab0a7",
        "colab": {
          "base_uri": "https://localhost:8080/",
          "height": 322
        }
      },
      "source": [
        "mecunicamp.conteudo.value_counts().plot(kind='pie', autopct='%.2f%%')\n",
        "plt.axis('equal')"
      ],
      "execution_count": null,
      "outputs": [
        {
          "output_type": "execute_result",
          "data": {
            "text/plain": [
              "(-1.1000000042944098,\n",
              " 1.1000000071200637,\n",
              " -1.1003656611426913,\n",
              " 1.1076787906362824)"
            ]
          },
          "metadata": {
            "tags": []
          },
          "execution_count": 48
        },
        {
          "output_type": "display_data",
          "data": {
            "image/png": "[encoded data removed]",
            "text/plain": [
              "<Figure size 432x288 with 1 Axes>"
            ]
          },
          "metadata": {
            "tags": []
          }
        }
      ]
    },
    {
      "cell_type": "code",
      "metadata": {
        "id": "DcxxTielISDn"
      },
      "source": [
        "eletrounicamp = unicamp.loc[unicamp.assunto=='eletrodinâmica']"
      ],
      "execution_count": null,
      "outputs": []
    },
    {
      "cell_type": "code",
      "metadata": {
        "id": "BNcGVNQbIiGw",
        "outputId": "06420049-3bdc-46e7-ee7b-a595206b6337",
        "colab": {
          "base_uri": "https://localhost:8080/",
          "height": 321
        }
      },
      "source": [
        "eletrounicamp.conteudo.value_counts().plot(kind='pie', autopct='%.2f%%')\n",
        "plt.axis('equal')"
      ],
      "execution_count": null,
      "outputs": [
        {
          "output_type": "execute_result",
          "data": {
            "text/plain": [
              "(-1.100000018898756,\n",
              " 1.1000000353324482,\n",
              " -1.1000000262939185,\n",
              " 1.1000000098602216)"
            ]
          },
          "metadata": {
            "tags": []
          },
          "execution_count": 50
        },
        {
          "output_type": "display_data",
          "data": {
            "image/png": "[encoded data removed]",
            "text/plain": [
              "<Figure size 432x288 with 1 Axes>"
            ]
          },
          "metadata": {
            "tags": []
          }
        }
      ]
    },
    {
      "cell_type": "code",
      "metadata": {
        "id": "4YtIP6QF38-N"
      },
      "source": [
        "unesp = questoes.loc[questoes.vestibular=='unesp']"
      ],
      "execution_count": null,
      "outputs": []
    },
    {
      "cell_type": "code",
      "metadata": {
        "id": "PzlM3uR54BnM",
        "outputId": "44697bb6-8cb7-4b0f-f136-5f46ecc3c2c2",
        "colab": {
          "base_uri": "https://localhost:8080/",
          "height": 204
        }
      },
      "source": [
        "unesp.head()"
      ],
      "execution_count": null,
      "outputs": [
        {
          "output_type": "execute_result",
          "data": {
            "text/html": [
              "<div>\n",
              "<style scoped>\n",
              "    .dataframe tbody tr th:only-of-type {\n",
              "        vertical-align: middle;\n",
              "    }\n",
              "\n",
              "    .dataframe tbody tr th {\n",
              "        vertical-align: top;\n",
              "    }\n",
              "\n",
              "    .dataframe thead th {\n",
              "        text-align: right;\n",
              "    }\n",
              "</style>\n",
              "<table border=\"1\" class=\"dataframe\">\n",
              "  <thead>\n",
              "    <tr style=\"text-align: right;\">\n",
              "      <th></th>\n",
              "      <th>id</th>\n",
              "      <th>vestibular</th>\n",
              "      <th>disciplina</th>\n",
              "      <th>ano</th>\n",
              "      <th>fase</th>\n",
              "      <th>assunto</th>\n",
              "      <th>conteudo</th>\n",
              "      <th>questao</th>\n",
              "    </tr>\n",
              "  </thead>\n",
              "  <tbody>\n",
              "    <tr>\n",
              "      <th>106</th>\n",
              "      <td>107</td>\n",
              "      <td>unesp</td>\n",
              "      <td>Física</td>\n",
              "      <td>2017</td>\n",
              "      <td>primeira_1sem</td>\n",
              "      <td>mecânica</td>\n",
              "      <td>cinemática curvilíneo</td>\n",
              "      <td>77</td>\n",
              "    </tr>\n",
              "    <tr>\n",
              "      <th>107</th>\n",
              "      <td>108</td>\n",
              "      <td>unesp</td>\n",
              "      <td>Física</td>\n",
              "      <td>2017</td>\n",
              "      <td>primeira_1sem</td>\n",
              "      <td>mecânica</td>\n",
              "      <td>força</td>\n",
              "      <td>78</td>\n",
              "    </tr>\n",
              "    <tr>\n",
              "      <th>108</th>\n",
              "      <td>109</td>\n",
              "      <td>unesp</td>\n",
              "      <td>Física</td>\n",
              "      <td>2017</td>\n",
              "      <td>primeira_1sem</td>\n",
              "      <td>mecânica</td>\n",
              "      <td>lançamento</td>\n",
              "      <td>79</td>\n",
              "    </tr>\n",
              "    <tr>\n",
              "      <th>109</th>\n",
              "      <td>110</td>\n",
              "      <td>unesp</td>\n",
              "      <td>Física</td>\n",
              "      <td>2017</td>\n",
              "      <td>primeira_1sem</td>\n",
              "      <td>óptica</td>\n",
              "      <td>refração</td>\n",
              "      <td>80</td>\n",
              "    </tr>\n",
              "    <tr>\n",
              "      <th>110</th>\n",
              "      <td>111</td>\n",
              "      <td>unesp</td>\n",
              "      <td>Física</td>\n",
              "      <td>2017</td>\n",
              "      <td>primeira_1sem</td>\n",
              "      <td>ondulatória</td>\n",
              "      <td>ondas sonoras</td>\n",
              "      <td>81</td>\n",
              "    </tr>\n",
              "  </tbody>\n",
              "</table>\n",
              "</div>"
            ],
            "text/plain": [
              "      id vestibular disciplina  ...      assunto               conteudo questao\n",
              "106  107      unesp     Física  ...     mecânica  cinemática curvilíneo      77\n",
              "107  108      unesp     Física  ...     mecânica                  força      78\n",
              "108  109      unesp     Física  ...     mecânica             lançamento      79\n",
              "109  110      unesp     Física  ...       óptica               refração      80\n",
              "110  111      unesp     Física  ...  ondulatória          ondas sonoras      81\n",
              "\n",
              "[5 rows x 8 columns]"
            ]
          },
          "metadata": {
            "tags": []
          },
          "execution_count": 52
        }
      ]
    },
    {
      "cell_type": "code",
      "metadata": {
        "id": "CSpidqH54Dod",
        "outputId": "63d97ae6-0b9d-4e03-bc3d-0d5c9d4d0626",
        "colab": {
          "base_uri": "https://localhost:8080/",
          "height": 34
        }
      },
      "source": [
        "unesp.shape"
      ],
      "execution_count": null,
      "outputs": [
        {
          "output_type": "execute_result",
          "data": {
            "text/plain": [
              "(43, 8)"
            ]
          },
          "metadata": {
            "tags": []
          },
          "execution_count": 53
        }
      ]
    },
    {
      "cell_type": "code",
      "metadata": {
        "id": "7gjEwHlKASTr",
        "outputId": "86171a33-94c1-4a70-fbc6-9c0a6ce99f4b",
        "colab": {
          "base_uri": "https://localhost:8080/",
          "height": 321
        }
      },
      "source": [
        "unesp.assunto.value_counts().plot(kind='pie', autopct='%.2f%%')\n",
        "plt.axis('equal')"
      ],
      "execution_count": null,
      "outputs": [
        {
          "output_type": "execute_result",
          "data": {
            "text/plain": [
              "(-1.1084429677488448,\n",
              " 1.100402050862819,\n",
              " -1.1043320423848972,\n",
              " 1.127240908003794)"
            ]
          },
          "metadata": {
            "tags": []
          },
          "execution_count": 54
        },
        {
          "output_type": "display_data",
          "data": {
            "image/png": "[encoded data removed]",
            "text/plain": [
              "<Figure size 432x288 with 1 Axes>"
            ]
          },
          "metadata": {
            "tags": []
          }
        }
      ]
    },
    {
      "cell_type": "code",
      "metadata": {
        "id": "rB4exIhUI6uG"
      },
      "source": [
        "mecunesp = unesp.loc[unesp.assunto=='mecânica']"
      ],
      "execution_count": null,
      "outputs": []
    },
    {
      "cell_type": "code",
      "metadata": {
        "id": "stlrtzTzJMdF",
        "outputId": "c921af82-88e2-48a6-aaaa-db22d94149b9",
        "colab": {
          "base_uri": "https://localhost:8080/",
          "height": 269
        }
      },
      "source": [
        "mecunesp.conteudo.value_counts().plot(kind='pie', autopct='%.2f%%')\n",
        "plt.axis('equal')"
      ],
      "execution_count": null,
      "outputs": [
        {
          "output_type": "execute_result",
          "data": {
            "text/plain": [
              "(-1.1, 1.1, -1.1071938566454405, 1.125494715441053)"
            ]
          },
          "metadata": {
            "tags": []
          },
          "execution_count": 56
        },
        {
          "output_type": "display_data",
          "data": {
            "image/png": "[encoded data removed]",
            "text/plain": [
              "<Figure size 432x288 with 1 Axes>"
            ]
          },
          "metadata": {
            "tags": []
          }
        }
      ]
    }
  ]
}